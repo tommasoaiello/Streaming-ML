{
 "cells": [
  {
   "cell_type": "markdown",
   "metadata": {
    "id": "fwYrIBODtbof"
   },
   "source": [
    "# Final Recap Lab\n",
    "---\n",
    "\n",
    "## Using the KDDCup dataset, find the best SML model"
   ]
  },
  {
   "cell_type": "code",
   "execution_count": 23,
   "metadata": {
    "id": "8Vm0pYW4tboh"
   },
   "outputs": [],
   "source": [
    "import matplotlib.pyplot as plt\n",
    "import numpy as np\n",
    "import pandas as pd"
   ]
  },
  {
   "cell_type": "markdown",
   "metadata": {
    "id": "yKUGkJ4Mtboi"
   },
   "source": [
    "The KDDCup intrusion detection data stream records intrusions simulated in a military network environment. The task is to classify network traffic into **normal** (80.31% of the cases) or some kind of **intrusion** (19.69% of the cases) described by *41 features*, of which *34 numeric* and *7 nominal*. The problem of temporal dependence is particularly evident here. Inspecting the raw stream confirms that there are time periods of intrusions rather than single instances of intrusions.\n",
    "The *7 nominal* attributes are:\n",
    "- protocol_type\n",
    "- service\n",
    "- flag\n",
    "- land\n",
    "- logged_in\n",
    "- is_host_login\n",
    "- is_guest_login\n",
    "\n",
    "**Class:** `class` | 0: normal, 1: intrusion\n",
    " \n",
    "**Samples:** 494021\n"
   ]
  },
  {
   "cell_type": "code",
   "execution_count": 24,
   "metadata": {
    "id": "CK2RMK3Ntboi"
   },
   "outputs": [
    {
     "data": {
      "text/plain": [
       "duration                         int64\n",
       "protocol_type                   object\n",
       "service                         object\n",
       "flag                            object\n",
       "src_bytes                        int64\n",
       "dst_bytes                        int64\n",
       "land                             int64\n",
       "wrong_fragment                   int64\n",
       "urgent                           int64\n",
       "hot                              int64\n",
       "num_failed_logins                int64\n",
       "logged_in                        int64\n",
       "num_compromised                  int64\n",
       "root_shell                       int64\n",
       "su_attempted                     int64\n",
       "num_root                         int64\n",
       "num_file_creations               int64\n",
       "num_shells                       int64\n",
       "num_access_files                 int64\n",
       "num_outbound_cmds                int64\n",
       "is_host_login                    int64\n",
       "is_guest_login                   int64\n",
       "count                            int64\n",
       "srv_count                        int64\n",
       "serror_rate                    float64\n",
       "srv_serror_rate                float64\n",
       "rerror_rate                    float64\n",
       "srv_rerror_rate                float64\n",
       "same_srv_rate                  float64\n",
       "diff_srv_rate                  float64\n",
       "srv_diff_host_rate             float64\n",
       "dst_host_count                   int64\n",
       "dst_host_srv_count               int64\n",
       "dst_host_same_srv_rate         float64\n",
       "dst_host_diff_srv_rate         float64\n",
       "dst_host_same_src_port_rate    float64\n",
       "dst_host_srv_diff_host_rate    float64\n",
       "dst_host_serror_rate           float64\n",
       "dst_host_srv_serror_rate       float64\n",
       "dst_host_rerror_rate           float64\n",
       "dst_host_srv_rerror_rate       float64\n",
       "class                            int64\n",
       "dtype: object"
      ]
     },
     "execution_count": 24,
     "metadata": {},
     "output_type": "execute_result"
    }
   ],
   "source": [
    "df = pd.read_csv(\"https://raw.githubusercontent.com/emanueledellavalle/streaming-data-analytics/main/codes/SML/datasets/KDDCup.csv\").iloc[:12500,:]\n",
    "features = df.columns[:-1]\n",
    "df.dtypes"
   ]
  },
  {
   "cell_type": "markdown",
   "metadata": {
    "id": "zFmzYDmDtboj"
   },
   "source": [
    "## Plot data distribution\n",
    "---\n",
    "Encode the protocol_type, service and flag attributes and apply the **PCA**"
   ]
  },
  {
   "cell_type": "code",
   "execution_count": 25,
   "metadata": {
    "id": "Pi21cMLstboj"
   },
   "outputs": [
    {
     "data": {
      "image/png": "[encoded data removed]",
      "text/plain": [
       "<Figure size 432x288 with 1 Axes>"
      ]
     },
     "metadata": {
      "needs_background": "light"
     },
     "output_type": "display_data"
    }
   ],
   "source": [
    "from sklearn.preprocessing import OrdinalEncoder\n",
    "from sklearn.preprocessing import StandardScaler\n",
    "from sklearn.decomposition import PCA\n",
    "\n",
    "encoder = OrdinalEncoder()\n",
    "encDf = df.copy()\n",
    "encDf[[\"protocol_type\",\"service\",\"flag\"]] = encoder.fit_transform(encDf[[\"protocol_type\",\"service\",\"flag\"]])\n",
    "\n",
    "\n",
    "features = encDf.drop([\"class\"],axis=1)\n",
    "label = encDf[\"class\"]\n",
    "\n",
    "scaled_features = StandardScaler().fit_transform(features)\n",
    "num_components = 2\n",
    "pca = PCA(n_components=num_components)\n",
    "pca_data = pca.fit_transform(scaled_features)\n",
    "pca_data.shape\n",
    "\n",
    "pc_df = pd.DataFrame(data = pca_data,columns = [\"pc1\", \"pc2\"])\n",
    "pc_df[\"class\"] = label\n",
    "\n",
    "normalities = pc_df[pc_df[\"class\"] == 0]\n",
    "intrusions = pc_df[pc_df[\"class\"] == 1]\n",
    "\n",
    "fig = plt.figure()\n",
    "ax1 = fig.add_subplot(111)\n",
    "ax1.scatter(x=normalities[\"pc1\"], y=normalities[\"pc2\"], marker=\"s\", label='Normalities: # ' + str(normalities.shape[0]))\n",
    "ax1.scatter(x=intrusions[\"pc1\"], y=intrusions[\"pc2\"], marker=\"o\", label='Intrusions: # ' + str(intrusions.shape[0]))\n",
    "plt.legend(loc='upper left');\n",
    "fig.tight_layout()\n",
    "plt.show()"
   ]
  },
  {
   "cell_type": "markdown",
   "metadata": {
    "id": "beGLpvxStboj"
   },
   "source": [
    "## Find the best SML model!\n",
    "---\n",
    "### Hint\n",
    "Since the stream is imbalances, the Accuracy is not a reliable metric. Try using [BalancedAccuracy](https://riverml.xyz/latest/api/metrics/BalancedAccuracy/) and [GeometricMean](https://riverml.xyz/latest/api/metrics/GeometricMean/) instead. To combine them, use [Metrics](https://riverml.xyz/latest/api/metrics/Metrics/)"
   ]
  },
  {
   "cell_type": "code",
   "execution_count": 26,
   "metadata": {
    "id": "tYEmRigztboj",
    "tags": []
   },
   "outputs": [],
   "source": [
    "from river.stream import iter_pandas\n",
    "from river.evaluate import progressive_val_score\n",
    "from river.metrics.base import Metrics\n",
    "from river.metrics import Accuracy,BalancedAccuracy,GeometricMean,CohenKappa\n",
    "from river import compose\n",
    "\n",
    "from river.naive_bayes import GaussianNB\n",
    "from river.tree import HoeffdingAdaptiveTreeClassifier\n",
    "from river.ensemble import AdaptiveRandomForestClassifier\n",
    "from river.ensemble import ADWINBaggingClassifier\n",
    "from river.tree import HoeffdingTreeClassifier\n",
    "from river.ensemble import LeveragingBaggingClassifier\n",
    "from river.ensemble import SRPClassifier\n",
    "from river.drift import ADWIN"
   ]
  },
  {
   "cell_type": "code",
   "execution_count": 27,
   "metadata": {},
   "outputs": [
    {
     "name": "stderr",
     "output_type": "stream",
     "text": [
      "/Users/ajeje/opt/anaconda3/lib/python3.9/site-packages/pandas/core/frame.py:4906: SettingWithCopyWarning: \n",
      "A value is trying to be set on a copy of a slice from a DataFrame\n",
      "\n",
      "See the caveats in the documentation: https://pandas.pydata.org/pandas-docs/stable/user_guide/indexing.html#returning-a-view-versus-a-copy\n",
      "  return super().drop(\n"
     ]
    },
    {
     "data": {
      "text/html": [
       "<div>\n",
       "<style scoped>\n",
       "    .dataframe tbody tr th:only-of-type {\n",
       "        vertical-align: middle;\n",
       "    }\n",
       "\n",
       "    .dataframe tbody tr th {\n",
       "        vertical-align: top;\n",
       "    }\n",
       "\n",
       "    .dataframe thead th {\n",
       "        text-align: right;\n",
       "    }\n",
       "</style>\n",
       "<table border=\"1\" class=\"dataframe\">\n",
       "  <thead>\n",
       "    <tr style=\"text-align: right;\">\n",
       "      <th></th>\n",
       "      <th>duration</th>\n",
       "      <th>src_bytes</th>\n",
       "      <th>dst_bytes</th>\n",
       "      <th>land</th>\n",
       "      <th>wrong_fragment</th>\n",
       "      <th>urgent</th>\n",
       "      <th>hot</th>\n",
       "      <th>num_failed_logins</th>\n",
       "      <th>logged_in</th>\n",
       "      <th>num_compromised</th>\n",
       "      <th>...</th>\n",
       "      <th>dst_host_count</th>\n",
       "      <th>dst_host_srv_count</th>\n",
       "      <th>dst_host_same_srv_rate</th>\n",
       "      <th>dst_host_diff_srv_rate</th>\n",
       "      <th>dst_host_same_src_port_rate</th>\n",
       "      <th>dst_host_srv_diff_host_rate</th>\n",
       "      <th>dst_host_serror_rate</th>\n",
       "      <th>dst_host_srv_serror_rate</th>\n",
       "      <th>dst_host_rerror_rate</th>\n",
       "      <th>dst_host_srv_rerror_rate</th>\n",
       "    </tr>\n",
       "  </thead>\n",
       "  <tbody>\n",
       "    <tr>\n",
       "      <th>0</th>\n",
       "      <td>0</td>\n",
       "      <td>181</td>\n",
       "      <td>5450</td>\n",
       "      <td>0</td>\n",
       "      <td>0</td>\n",
       "      <td>0</td>\n",
       "      <td>0</td>\n",
       "      <td>0</td>\n",
       "      <td>1</td>\n",
       "      <td>0</td>\n",
       "      <td>...</td>\n",
       "      <td>9</td>\n",
       "      <td>9</td>\n",
       "      <td>1.0</td>\n",
       "      <td>0.0</td>\n",
       "      <td>0.11</td>\n",
       "      <td>0.0</td>\n",
       "      <td>0.0</td>\n",
       "      <td>0.0</td>\n",
       "      <td>0.0</td>\n",
       "      <td>0.0</td>\n",
       "    </tr>\n",
       "    <tr>\n",
       "      <th>1</th>\n",
       "      <td>0</td>\n",
       "      <td>239</td>\n",
       "      <td>486</td>\n",
       "      <td>0</td>\n",
       "      <td>0</td>\n",
       "      <td>0</td>\n",
       "      <td>0</td>\n",
       "      <td>0</td>\n",
       "      <td>1</td>\n",
       "      <td>0</td>\n",
       "      <td>...</td>\n",
       "      <td>19</td>\n",
       "      <td>19</td>\n",
       "      <td>1.0</td>\n",
       "      <td>0.0</td>\n",
       "      <td>0.05</td>\n",
       "      <td>0.0</td>\n",
       "      <td>0.0</td>\n",
       "      <td>0.0</td>\n",
       "      <td>0.0</td>\n",
       "      <td>0.0</td>\n",
       "    </tr>\n",
       "    <tr>\n",
       "      <th>2</th>\n",
       "      <td>0</td>\n",
       "      <td>235</td>\n",
       "      <td>1337</td>\n",
       "      <td>0</td>\n",
       "      <td>0</td>\n",
       "      <td>0</td>\n",
       "      <td>0</td>\n",
       "      <td>0</td>\n",
       "      <td>1</td>\n",
       "      <td>0</td>\n",
       "      <td>...</td>\n",
       "      <td>29</td>\n",
       "      <td>29</td>\n",
       "      <td>1.0</td>\n",
       "      <td>0.0</td>\n",
       "      <td>0.03</td>\n",
       "      <td>0.0</td>\n",
       "      <td>0.0</td>\n",
       "      <td>0.0</td>\n",
       "      <td>0.0</td>\n",
       "      <td>0.0</td>\n",
       "    </tr>\n",
       "    <tr>\n",
       "      <th>3</th>\n",
       "      <td>0</td>\n",
       "      <td>219</td>\n",
       "      <td>1337</td>\n",
       "      <td>0</td>\n",
       "      <td>0</td>\n",
       "      <td>0</td>\n",
       "      <td>0</td>\n",
       "      <td>0</td>\n",
       "      <td>1</td>\n",
       "      <td>0</td>\n",
       "      <td>...</td>\n",
       "      <td>39</td>\n",
       "      <td>39</td>\n",
       "      <td>1.0</td>\n",
       "      <td>0.0</td>\n",
       "      <td>0.03</td>\n",
       "      <td>0.0</td>\n",
       "      <td>0.0</td>\n",
       "      <td>0.0</td>\n",
       "      <td>0.0</td>\n",
       "      <td>0.0</td>\n",
       "    </tr>\n",
       "    <tr>\n",
       "      <th>4</th>\n",
       "      <td>0</td>\n",
       "      <td>217</td>\n",
       "      <td>2032</td>\n",
       "      <td>0</td>\n",
       "      <td>0</td>\n",
       "      <td>0</td>\n",
       "      <td>0</td>\n",
       "      <td>0</td>\n",
       "      <td>1</td>\n",
       "      <td>0</td>\n",
       "      <td>...</td>\n",
       "      <td>49</td>\n",
       "      <td>49</td>\n",
       "      <td>1.0</td>\n",
       "      <td>0.0</td>\n",
       "      <td>0.02</td>\n",
       "      <td>0.0</td>\n",
       "      <td>0.0</td>\n",
       "      <td>0.0</td>\n",
       "      <td>0.0</td>\n",
       "      <td>0.0</td>\n",
       "    </tr>\n",
       "  </tbody>\n",
       "</table>\n",
       "<p>5 rows × 38 columns</p>\n",
       "</div>"
      ],
      "text/plain": [
       "   duration  src_bytes  dst_bytes  land  wrong_fragment  urgent  hot  \\\n",
       "0         0        181       5450     0               0       0    0   \n",
       "1         0        239        486     0               0       0    0   \n",
       "2         0        235       1337     0               0       0    0   \n",
       "3         0        219       1337     0               0       0    0   \n",
       "4         0        217       2032     0               0       0    0   \n",
       "\n",
       "   num_failed_logins  logged_in  num_compromised  ...  dst_host_count  \\\n",
       "0                  0          1                0  ...               9   \n",
       "1                  0          1                0  ...              19   \n",
       "2                  0          1                0  ...              29   \n",
       "3                  0          1                0  ...              39   \n",
       "4                  0          1                0  ...              49   \n",
       "\n",
       "   dst_host_srv_count  dst_host_same_srv_rate  dst_host_diff_srv_rate  \\\n",
       "0                   9                     1.0                     0.0   \n",
       "1                  19                     1.0                     0.0   \n",
       "2                  29                     1.0                     0.0   \n",
       "3                  39                     1.0                     0.0   \n",
       "4                  49                     1.0                     0.0   \n",
       "\n",
       "   dst_host_same_src_port_rate  dst_host_srv_diff_host_rate  \\\n",
       "0                         0.11                          0.0   \n",
       "1                         0.05                          0.0   \n",
       "2                         0.03                          0.0   \n",
       "3                         0.03                          0.0   \n",
       "4                         0.02                          0.0   \n",
       "\n",
       "   dst_host_serror_rate  dst_host_srv_serror_rate  dst_host_rerror_rate  \\\n",
       "0                   0.0                       0.0                   0.0   \n",
       "1                   0.0                       0.0                   0.0   \n",
       "2                   0.0                       0.0                   0.0   \n",
       "3                   0.0                       0.0                   0.0   \n",
       "4                   0.0                       0.0                   0.0   \n",
       "\n",
       "   dst_host_srv_rerror_rate  \n",
       "0                       0.0  \n",
       "1                       0.0  \n",
       "2                       0.0  \n",
       "3                       0.0  \n",
       "4                       0.0  \n",
       "\n",
       "[5 rows x 38 columns]"
      ]
     },
     "execution_count": 27,
     "metadata": {},
     "output_type": "execute_result"
    }
   ],
   "source": [
    "features = df.columns[:-1]\n",
    "X_train = df[features]\n",
    "y_train = df['class']\n",
    "\n",
    "X_train.drop('protocol_type', inplace=True, axis=1)\n",
    "X_train.drop('service', inplace=True, axis=1)\n",
    "X_train.drop('flag', inplace=True, axis=1)\n",
    "\n",
    "\n",
    "X_train.head()"
   ]
  },
  {
   "cell_type": "markdown",
   "metadata": {
    "tags": []
   },
   "source": [
    "### Naive Bayes"
   ]
  },
  {
   "cell_type": "code",
   "execution_count": 28,
   "metadata": {},
   "outputs": [
    {
     "name": "stdout",
     "output_type": "stream",
     "text": [
      "[2,500] Accuracy: 99.92%, BalancedAccuracy: 50.00%, GeometricMean: 0.00%, CohenKappa: 0.00%\n",
      "[5,000] Accuracy: 99.92%, BalancedAccuracy: 50.00%, GeometricMean: 0.00%, CohenKappa: 0.00%\n",
      "[7,500] Accuracy: 99.95%, BalancedAccuracy: 50.00%, GeometricMean: 0.00%, CohenKappa: 0.00%\n",
      "[10,000] Accuracy: 77.87%, BalancedAccuracy: 50.00%, GeometricMean: 0.00%, CohenKappa: 0.00%\n",
      "[12,500] Accuracy: 70.39%, BalancedAccuracy: 50.00%, GeometricMean: 0.00%, CohenKappa: 0.00%\n"
     ]
    }
   ],
   "source": [
    "model1 = GaussianNB()\n",
    "\n",
    "metrics = Metrics(metrics=[Accuracy(),BalancedAccuracy(),GeometricMean(),CohenKappa()])\n",
    "stream = iter_pandas(X= X_train, y= y_train)\n",
    "\n",
    "pred.append(progressive_val_score(dataset=stream,\n",
    "                      model=model1,\n",
    "                      metric=metrics,\n",
    "                      print_every=2500))"
   ]
  },
  {
   "cell_type": "markdown",
   "metadata": {
    "tags": []
   },
   "source": [
    "### HAT"
   ]
  },
  {
   "cell_type": "code",
   "execution_count": 29,
   "metadata": {
    "tags": []
   },
   "outputs": [
    {
     "name": "stdout",
     "output_type": "stream",
     "text": [
      "[2,500] Accuracy: 99.92%, BalancedAccuracy: 50.00%, GeometricMean: 0.00%, CohenKappa: 0.00%\n",
      "[5,000] Accuracy: 99.86%, BalancedAccuracy: 49.97%, GeometricMean: 0.00%, CohenKappa: -0.07%\n",
      "[7,500] Accuracy: 99.91%, BalancedAccuracy: 49.98%, GeometricMean: 0.00%, CohenKappa: -0.05%\n",
      "[10,000] Accuracy: 99.74%, BalancedAccuracy: 99.46%, GeometricMean: 99.46%, CohenKappa: 99.24%\n",
      "[12,500] Accuracy: 99.48%, BalancedAccuracy: 99.45%, GeometricMean: 99.45%, CohenKappa: 98.75%\n"
     ]
    }
   ],
   "source": [
    "model2 = HoeffdingAdaptiveTreeClassifier()\n",
    "\n",
    "metrics = Metrics(metrics=[Accuracy(),BalancedAccuracy(),GeometricMean(),CohenKappa()])\n",
    "stream = iter_pandas(X= X_train, y= y_train)\n",
    "\n",
    "pred.append(progressive_val_score(dataset=stream,\n",
    "                      model=model2,\n",
    "                      metric=metrics,\n",
    "                      print_every=2500))"
   ]
  },
  {
   "cell_type": "markdown",
   "metadata": {
    "tags": []
   },
   "source": [
    "### Adaptive random forest"
   ]
  },
  {
   "cell_type": "code",
   "execution_count": 30,
   "metadata": {},
   "outputs": [
    {
     "name": "stdout",
     "output_type": "stream",
     "text": [
      "[2,500] Accuracy: 99.92%, BalancedAccuracy: 50.00%, GeometricMean: 0.00%, CohenKappa: 0.00%\n",
      "[5,000] Accuracy: 99.92%, BalancedAccuracy: 50.00%, GeometricMean: 0.00%, CohenKappa: 0.00%\n",
      "[7,500] Accuracy: 99.95%, BalancedAccuracy: 50.00%, GeometricMean: 0.00%, CohenKappa: 0.00%\n",
      "[10,000] Accuracy: 99.79%, BalancedAccuracy: 99.53%, GeometricMean: 99.52%, CohenKappa: 99.39%\n",
      "[12,500] Accuracy: 99.82%, BalancedAccuracy: 99.71%, GeometricMean: 99.71%, CohenKappa: 99.58%\n"
     ]
    }
   ],
   "source": [
    "model3 = AdaptiveRandomForestClassifier(n_models = 7)\n",
    "\n",
    "metrics = Metrics(metrics=[Accuracy(),BalancedAccuracy(),GeometricMean(),CohenKappa()])\n",
    "stream = iter_pandas(X= X_train, y= y_train)\n",
    "\n",
    "pred.append(progressive_val_score(dataset=stream,\n",
    "                      model=model3,\n",
    "                      metric=metrics,\n",
    "                      print_every=2500))"
   ]
  },
  {
   "cell_type": "markdown",
   "metadata": {
    "tags": []
   },
   "source": [
    "### ADWIN Bagging"
   ]
  },
  {
   "cell_type": "code",
   "execution_count": 32,
   "metadata": {},
   "outputs": [
    {
     "name": "stdout",
     "output_type": "stream",
     "text": [
      "[2,500] Accuracy: 99.92%, BalancedAccuracy: 50.00%, GeometricMean: 0.00%, CohenKappa: 0.00%\n",
      "[5,000] Accuracy: 99.88%, BalancedAccuracy: 49.98%, GeometricMean: 0.00%, CohenKappa: -0.05%\n",
      "[7,500] Accuracy: 99.92%, BalancedAccuracy: 49.99%, GeometricMean: 0.00%, CohenKappa: -0.04%\n",
      "[10,000] Accuracy: 98.72%, BalancedAccuracy: 97.16%, GeometricMean: 97.12%, CohenKappa: 96.21%\n",
      "[12,500] Accuracy: 98.97%, BalancedAccuracy: 98.29%, GeometricMean: 98.27%, CohenKappa: 97.50%\n"
     ]
    }
   ],
   "source": [
    "model4 = ADWINBaggingClassifier(model=HoeffdingTreeClassifier(), n_models = 4)\n",
    "\n",
    "metrics = Metrics(metrics=[Accuracy(),BalancedAccuracy(),GeometricMean(),CohenKappa()])\n",
    "stream = iter_pandas(X= X_train, y= y_train)\n",
    "\n",
    "pred.append(progressive_val_score(dataset=stream,\n",
    "                      model=model4,\n",
    "                      metric=metrics,\n",
    "                      print_every=2500))"
   ]
  },
  {
   "cell_type": "markdown",
   "metadata": {
    "tags": []
   },
   "source": [
    "### Hoeffding Tree Classifier"
   ]
  },
  {
   "cell_type": "code",
   "execution_count": 33,
   "metadata": {},
   "outputs": [
    {
     "name": "stdout",
     "output_type": "stream",
     "text": [
      "[2,500] Accuracy: 99.88%, BalancedAccuracy: 49.98%, GeometricMean: 0.00%, CohenKappa: -0.05%\n",
      "[5,000] Accuracy: 99.84%, BalancedAccuracy: 49.96%, GeometricMean: 0.00%, CohenKappa: -0.08%\n",
      "[7,500] Accuracy: 99.89%, BalancedAccuracy: 49.97%, GeometricMean: 0.00%, CohenKappa: -0.05%\n",
      "[10,000] Accuracy: 99.71%, BalancedAccuracy: 99.41%, GeometricMean: 99.41%, CohenKappa: 99.16%\n",
      "[12,500] Accuracy: 99.39%, BalancedAccuracy: 99.37%, GeometricMean: 99.37%, CohenKappa: 98.54%\n"
     ]
    }
   ],
   "source": [
    "model5 = HoeffdingTreeClassifier()\n",
    "\n",
    "metrics = Metrics(metrics=[Accuracy(),BalancedAccuracy(),GeometricMean(),CohenKappa()])\n",
    "stream = iter_pandas(X= X_train, y= y_train)\n",
    "\n",
    "pred.append(progressive_val_score(dataset=stream,\n",
    "                      model=model5,\n",
    "                      metric=metrics,\n",
    "                      print_every=2500))\n"
   ]
  },
  {
   "cell_type": "markdown",
   "metadata": {
    "tags": []
   },
   "source": [
    "### Leveraging Bagging Classifier"
   ]
  },
  {
   "cell_type": "code",
   "execution_count": 34,
   "metadata": {},
   "outputs": [
    {
     "name": "stdout",
     "output_type": "stream",
     "text": [
      "[2,500] Accuracy: 99.92%, BalancedAccuracy: 74.98%, GeometricMean: 70.70%, CohenKappa: 49.96%\n",
      "[5,000] Accuracy: 99.92%, BalancedAccuracy: 62.49%, GeometricMean: 49.99%, CohenKappa: 33.30%\n",
      "[7,500] Accuracy: 99.95%, BalancedAccuracy: 62.49%, GeometricMean: 50.00%, CohenKappa: 33.31%\n",
      "[10,000] Accuracy: 99.60%, BalancedAccuracy: 99.11%, GeometricMean: 99.11%, CohenKappa: 98.83%\n",
      "[12,500] Accuracy: 99.66%, BalancedAccuracy: 99.45%, GeometricMean: 99.45%, CohenKappa: 99.17%\n"
     ]
    }
   ],
   "source": [
    "model5 = LeveragingBaggingClassifier(model=HoeffdingTreeClassifier(), n_models = 4)\n",
    "\n",
    "metrics = Metrics(metrics=[Accuracy(),BalancedAccuracy(),GeometricMean(),CohenKappa()])\n",
    "stream = iter_pandas(X= X_train, y= y_train)\n",
    "\n",
    "pred.append(progressive_val_score(dataset=stream,\n",
    "                      model=model5,\n",
    "                      metric=metrics,\n",
    "                      print_every=2500))"
   ]
  },
  {
   "cell_type": "markdown",
   "metadata": {},
   "source": [
    "### SRPC"
   ]
  },
  {
   "cell_type": "code",
   "execution_count": 36,
   "metadata": {},
   "outputs": [
    {
     "name": "stdout",
     "output_type": "stream",
     "text": [
      "[2,500] Accuracy: 99.84%, BalancedAccuracy: 74.94%, GeometricMean: 70.67%, CohenKappa: 33.26%\n",
      "[5,000] Accuracy: 99.88%, BalancedAccuracy: 62.47%, GeometricMean: 49.98%, CohenKappa: 24.94%\n",
      "[7,500] Accuracy: 99.92%, BalancedAccuracy: 62.48%, GeometricMean: 49.99%, CohenKappa: 24.96%\n",
      "[10,000] Accuracy: 99.61%, BalancedAccuracy: 99.17%, GeometricMean: 99.16%, CohenKappa: 98.86%\n",
      "[12,500] Accuracy: 99.39%, BalancedAccuracy: 99.29%, GeometricMean: 99.29%, CohenKappa: 98.54%\n"
     ]
    }
   ],
   "source": [
    "model6 = SRPClassifier(model=HoeffdingTreeClassifier(),\n",
    "                      n_models=4,\n",
    "                      drift_detector=ADWIN(delta=0.001),\n",
    "                      warning_detector=ADWIN(delta=0.01)\n",
    "                      )\n",
    "\n",
    "metrics = Metrics(metrics=[Accuracy(),BalancedAccuracy(),GeometricMean(),CohenKappa()])\n",
    "stream = iter_pandas(X= X_train, y= y_train)\n",
    "\n",
    "pred.append(progressive_val_score(dataset=stream,\n",
    "                      model=model6,\n",
    "                      metric=metrics,\n",
    "                      print_every=2500))"
   ]
  },
  {
   "cell_type": "code",
   "execution_count": null,
   "metadata": {},
   "outputs": [],
   "source": []
  }
 ],
 "metadata": {
  "colab": {
   "provenance": []
  },
  "kernelspec": {
   "display_name": "Python 3 (ipykernel)",
   "language": "python",
   "name": "python3"
  },
  "language_info": {
   "codemirror_mode": {
    "name": "ipython",
    "version": 3
   },
   "file_extension": ".py",
   "mimetype": "text/x-python",
   "name": "python",
   "nbconvert_exporter": "python",
   "pygments_lexer": "ipython3",
   "version": "3.9.7"
  }
 },
 "nbformat": 4,
 "nbformat_minor": 4
}
