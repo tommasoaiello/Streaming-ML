{
 "cells": [
  {
   "cell_type": "markdown",
   "id": "b9008c18-600c-4256-bd15-e90689e470f4",
   "metadata": {},
   "source": [
    "# Objective of Notebook\n",
    "I want to make an example of streaming machine learning. The dataset used is wine dataset even if that is not very suitable to a SML approach"
   ]
  },
  {
   "cell_type": "code",
   "execution_count": 8,
   "id": "d09c60dc-6423-459d-a5dc-766949b9e607",
   "metadata": {
    "tags": []
   },
   "outputs": [
    {
     "name": "stdout",
     "output_type": "stream",
     "text": [
      "Requirement already satisfied: river in ./opt/anaconda3/lib/python3.9/site-packages (0.14.0)\n",
      "Requirement already satisfied: pandas>=1.3 in ./opt/anaconda3/lib/python3.9/site-packages (from river) (1.3.4)\n",
      "Requirement already satisfied: numpy>=1.23.4 in ./opt/anaconda3/lib/python3.9/site-packages (from river) (1.24.1)\n",
      "Requirement already satisfied: scipy>=1.5 in ./opt/anaconda3/lib/python3.9/site-packages (from river) (1.10.0)\n",
      "Requirement already satisfied: python-dateutil>=2.7.3 in ./opt/anaconda3/lib/python3.9/site-packages (from pandas>=1.3->river) (2.8.2)\n",
      "Requirement already satisfied: pytz>=2017.3 in ./opt/anaconda3/lib/python3.9/site-packages (from pandas>=1.3->river) (2021.3)\n",
      "Requirement already satisfied: six>=1.5 in ./opt/anaconda3/lib/python3.9/site-packages (from python-dateutil>=2.7.3->pandas>=1.3->river) (1.16.0)\n",
      "Note: you may need to restart the kernel to use updated packages.\n"
     ]
    }
   ],
   "source": [
    "pip install river"
   ]
  },
  {
   "cell_type": "code",
   "execution_count": 9,
   "id": "00e0810a-7e52-4232-9b7b-f57e23f3740a",
   "metadata": {},
   "outputs": [],
   "source": [
    "from sklearn import datasets as skdatasets\n",
    "from sklearn.naive_bayes import GaussianNB as GaussianNBSKL\n",
    "from sklearn.model_selection import train_test_split\n",
    "from sklearn.metrics import accuracy_score , confusion_matrix\n"
   ]
  },
  {
   "cell_type": "code",
   "execution_count": 10,
   "id": "06165753-c35f-43c0-9aaa-38c87fadf40a",
   "metadata": {},
   "outputs": [],
   "source": [
    "import matplotlib.pyplot as plt\n",
    "import seaborn as sns\n",
    "plt.style.use('classic')\n",
    "sns.set(style= 'ticks', color_codes= True)"
   ]
  },
  {
   "cell_type": "code",
   "execution_count": 24,
   "id": "f6133936-d6fa-4ad3-bda8-73d25952f66a",
   "metadata": {
    "tags": []
   },
   "outputs": [],
   "source": [
    "wine = skdatasets.load_wine()\n",
    "x= wine.data\n",
    "y=wine.target"
   ]
  },
  {
   "cell_type": "code",
   "execution_count": 25,
   "id": "c3f4028c-b1f7-4af7-a54a-acc2921f9b7c",
   "metadata": {},
   "outputs": [
    {
     "data": {
      "text/plain": [
       "((133, 13), (133,), (45, 13), (45,))"
      ]
     },
     "execution_count": 25,
     "metadata": {},
     "output_type": "execute_result"
    }
   ],
   "source": [
    "X_train, X_test, y_train, y_test  = train_test_split(wine.data, \n",
    "                                                     wine.target, \n",
    "                                                     test_size=0.25,\n",
    "                                                     stratify= wine.target, \n",
    "                                                     random_state=42)\n",
    "X_train.shape , y_train.shape, X_test.shape, y_test.shape"
   ]
  },
  {
   "cell_type": "code",
   "execution_count": 26,
   "id": "bdce8d74-fe2d-4cfb-926b-c97c3cfcb463",
   "metadata": {},
   "outputs": [
    {
     "data": {
      "text/plain": [
       "GaussianNB()"
      ]
     },
     "execution_count": 26,
     "metadata": {},
     "output_type": "execute_result"
    }
   ],
   "source": [
    "#Test with gaussianNb but not sequential\n",
    "model = GaussianNBSKL()\n",
    "model.fit( X=X_train , y=y_train)"
   ]
  },
  {
   "cell_type": "code",
   "execution_count": 28,
   "id": "7a8d587a-0e6b-4d5a-bf3e-9c00d873d4cb",
   "metadata": {},
   "outputs": [],
   "source": [
    "#I predict\n",
    "y_pred = model.predict(X_test)\n"
   ]
  },
  {
   "cell_type": "code",
   "execution_count": 29,
   "id": "5643b2ae-a17e-4cd4-8d59-07cc2209b872",
   "metadata": {},
   "outputs": [
    {
     "name": "stdout",
     "output_type": "stream",
     "text": [
      "Model accuracy is 0.9777777777777777\n"
     ]
    }
   ],
   "source": [
    "#I see accuracy\n",
    "\n",
    "print('Model accuracy is ' + str(accuracy_score(y_test, y_pred)))"
   ]
  },
  {
   "cell_type": "code",
   "execution_count": 30,
   "id": "d8b80403-7d94-4655-bb51-fe910a1f6a56",
   "metadata": {},
   "outputs": [
    {
     "name": "stdout",
     "output_type": "stream",
     "text": [
      "[[15  0  0]\n",
      " [ 1 17  0]\n",
      " [ 0  0 12]]\n"
     ]
    }
   ],
   "source": [
    "print(confusion_matrix(y_test, y_pred))"
   ]
  },
  {
   "cell_type": "markdown",
   "id": "ee6659f1-c12c-41b5-8621-de12542c7941",
   "metadata": {},
   "source": [
    "## Streaming approach"
   ]
  },
  {
   "cell_type": "code",
   "execution_count": 39,
   "id": "0f152fc5-88fb-4842-8d76-cb85058f5d72",
   "metadata": {},
   "outputs": [
    {
     "name": "stdout",
     "output_type": "stream",
     "text": [
      "Accuracy after 0 samples is: 0.0\n",
      "Accuracy after 1 samples is: 0.0\n",
      "Accuracy after 2 samples is: 0.0\n",
      "Accuracy after 3 samples is: 0.0\n",
      "Accuracy after 4 samples is: 0.2\n",
      "Accuracy after 5 samples is: 0.3333333333333333\n",
      "Accuracy after 6 samples is: 0.42857142857142855\n",
      "Accuracy after 7 samples is: 0.375\n",
      "Accuracy after 8 samples is: 0.4444444444444444\n",
      "Accuracy after 9 samples is: 0.4\n",
      "Accuracy after 10 samples is: 0.45454545454545453\n",
      "Accuracy after 11 samples is: 0.5\n",
      "Accuracy after 12 samples is: 0.5384615384615384\n",
      "Accuracy after 13 samples is: 0.5714285714285714\n",
      "Accuracy after 14 samples is: 0.6\n",
      "Accuracy after 15 samples is: 0.625\n",
      "Accuracy after 16 samples is: 0.6470588235294118\n",
      "Accuracy after 17 samples is: 0.6666666666666666\n",
      "Accuracy after 18 samples is: 0.6842105263157895\n",
      "Accuracy after 19 samples is: 0.7\n",
      "Accuracy after 20 samples is: 0.7142857142857143\n",
      "Accuracy after 21 samples is: 0.7272727272727273\n",
      "Accuracy after 22 samples is: 0.7391304347826086\n",
      "Accuracy after 23 samples is: 0.75\n",
      "Accuracy after 24 samples is: 0.76\n",
      "Accuracy after 25 samples is: 0.7692307692307693\n",
      "Accuracy after 26 samples is: 0.7777777777777778\n",
      "Accuracy after 27 samples is: 0.7857142857142857\n",
      "Accuracy after 28 samples is: 0.7931034482758621\n",
      "Accuracy after 29 samples is: 0.8\n",
      "Accuracy after 30 samples is: 0.8064516129032258\n",
      "Accuracy after 31 samples is: 0.8125\n",
      "Accuracy after 32 samples is: 0.8181818181818182\n",
      "Accuracy after 33 samples is: 0.8235294117647058\n",
      "Accuracy after 34 samples is: 0.8285714285714286\n",
      "Accuracy after 35 samples is: 0.8333333333333334\n",
      "Accuracy after 36 samples is: 0.8378378378378378\n",
      "Accuracy after 37 samples is: 0.8421052631578947\n",
      "Accuracy after 38 samples is: 0.8461538461538461\n",
      "Accuracy after 39 samples is: 0.85\n",
      "Accuracy after 40 samples is: 0.8536585365853658\n",
      "Accuracy after 41 samples is: 0.8571428571428571\n",
      "Accuracy after 42 samples is: 0.8604651162790697\n",
      "Accuracy after 43 samples is: 0.8636363636363636\n",
      "Accuracy after 44 samples is: 0.8666666666666667\n",
      "Accuracy after 45 samples is: 0.8478260869565217\n",
      "Accuracy after 46 samples is: 0.851063829787234\n",
      "Accuracy after 47 samples is: 0.8541666666666666\n",
      "Accuracy after 48 samples is: 0.8571428571428571\n",
      "Accuracy after 49 samples is: 0.86\n",
      "Accuracy after 50 samples is: 0.8627450980392157\n",
      "Accuracy after 51 samples is: 0.8653846153846154\n",
      "Accuracy after 52 samples is: 0.8679245283018868\n",
      "Accuracy after 53 samples is: 0.8703703703703703\n",
      "Accuracy after 54 samples is: 0.8727272727272727\n",
      "Accuracy after 55 samples is: 0.8571428571428571\n",
      "Accuracy after 56 samples is: 0.8596491228070176\n",
      "Accuracy after 57 samples is: 0.8620689655172413\n",
      "Accuracy after 58 samples is: 0.864406779661017\n",
      "Accuracy after 59 samples is: 0.8666666666666667\n",
      "Accuracy after 60 samples is: 0.8688524590163934\n",
      "Accuracy after 61 samples is: 0.8709677419354839\n",
      "Accuracy after 62 samples is: 0.873015873015873\n",
      "Accuracy after 63 samples is: 0.875\n",
      "Accuracy after 64 samples is: 0.8769230769230769\n",
      "Accuracy after 65 samples is: 0.8787878787878788\n",
      "Accuracy after 66 samples is: 0.8805970149253731\n",
      "Accuracy after 67 samples is: 0.8823529411764706\n",
      "Accuracy after 68 samples is: 0.8840579710144928\n",
      "Accuracy after 69 samples is: 0.8857142857142857\n",
      "Accuracy after 70 samples is: 0.8873239436619719\n",
      "Accuracy after 71 samples is: 0.8888888888888888\n",
      "Accuracy after 72 samples is: 0.8904109589041096\n",
      "Accuracy after 73 samples is: 0.8918918918918919\n",
      "Accuracy after 74 samples is: 0.8933333333333333\n",
      "Accuracy after 75 samples is: 0.8947368421052632\n",
      "Accuracy after 76 samples is: 0.8961038961038961\n",
      "Accuracy after 77 samples is: 0.8974358974358975\n",
      "Accuracy after 78 samples is: 0.8987341772151899\n",
      "Accuracy after 79 samples is: 0.9\n",
      "Accuracy after 80 samples is: 0.9012345679012346\n",
      "Accuracy after 81 samples is: 0.9024390243902439\n",
      "Accuracy after 82 samples is: 0.9036144578313253\n",
      "Accuracy after 83 samples is: 0.9047619047619048\n",
      "Accuracy after 84 samples is: 0.9058823529411765\n",
      "Accuracy after 85 samples is: 0.9069767441860465\n",
      "Accuracy after 86 samples is: 0.9080459770114943\n",
      "Accuracy after 87 samples is: 0.9090909090909091\n",
      "Accuracy after 88 samples is: 0.9101123595505618\n",
      "Accuracy after 89 samples is: 0.9111111111111111\n",
      "Accuracy after 90 samples is: 0.9120879120879121\n",
      "Accuracy after 91 samples is: 0.9130434782608695\n",
      "Accuracy after 92 samples is: 0.9139784946236559\n",
      "Accuracy after 93 samples is: 0.9148936170212766\n",
      "Accuracy after 94 samples is: 0.9157894736842105\n",
      "Accuracy after 95 samples is: 0.9166666666666666\n",
      "Accuracy after 96 samples is: 0.9175257731958762\n",
      "Accuracy after 97 samples is: 0.9183673469387755\n",
      "Accuracy after 98 samples is: 0.9191919191919192\n",
      "Accuracy after 99 samples is: 0.92\n",
      "Accuracy after 100 samples is: 0.9207920792079208\n",
      "Accuracy after 101 samples is: 0.9215686274509803\n",
      "Accuracy after 102 samples is: 0.9223300970873787\n",
      "Accuracy after 103 samples is: 0.9230769230769231\n",
      "Accuracy after 104 samples is: 0.9238095238095239\n",
      "Accuracy after 105 samples is: 0.9245283018867925\n",
      "Accuracy after 106 samples is: 0.9252336448598131\n",
      "Accuracy after 107 samples is: 0.9259259259259259\n",
      "Accuracy after 108 samples is: 0.926605504587156\n",
      "Accuracy after 109 samples is: 0.9272727272727272\n",
      "Accuracy after 110 samples is: 0.9279279279279279\n",
      "Accuracy after 111 samples is: 0.9285714285714286\n",
      "Accuracy after 112 samples is: 0.9292035398230089\n",
      "Accuracy after 113 samples is: 0.9298245614035088\n",
      "Accuracy after 114 samples is: 0.9304347826086956\n",
      "Accuracy after 115 samples is: 0.9310344827586207\n",
      "Accuracy after 116 samples is: 0.9316239316239316\n",
      "Accuracy after 117 samples is: 0.9322033898305084\n",
      "Accuracy after 118 samples is: 0.9327731092436975\n",
      "Accuracy after 119 samples is: 0.9333333333333333\n",
      "Accuracy after 120 samples is: 0.9338842975206612\n",
      "Accuracy after 121 samples is: 0.9344262295081968\n",
      "Accuracy after 122 samples is: 0.9349593495934959\n",
      "Accuracy after 123 samples is: 0.9354838709677419\n",
      "Accuracy after 124 samples is: 0.936\n",
      "Accuracy after 125 samples is: 0.9365079365079365\n",
      "Accuracy after 126 samples is: 0.937007874015748\n",
      "Accuracy after 127 samples is: 0.9375\n",
      "Accuracy after 128 samples is: 0.937984496124031\n",
      "Accuracy after 129 samples is: 0.9384615384615385\n",
      "Accuracy after 130 samples is: 0.9389312977099237\n",
      "Accuracy after 131 samples is: 0.9393939393939394\n",
      "Accuracy after 132 samples is: 0.9398496240601504\n",
      "Accuracy after 133 samples is: 0.9402985074626866\n",
      "Accuracy after 134 samples is: 0.9333333333333333\n",
      "Accuracy after 135 samples is: 0.9338235294117647\n",
      "Accuracy after 136 samples is: 0.9343065693430657\n",
      "Accuracy after 137 samples is: 0.9347826086956522\n",
      "Accuracy after 138 samples is: 0.935251798561151\n",
      "Accuracy after 139 samples is: 0.9357142857142857\n",
      "Accuracy after 140 samples is: 0.9361702127659575\n",
      "Accuracy after 141 samples is: 0.9366197183098591\n",
      "Accuracy after 142 samples is: 0.9370629370629371\n",
      "Accuracy after 143 samples is: 0.9375\n",
      "Accuracy after 144 samples is: 0.9379310344827586\n",
      "Accuracy after 145 samples is: 0.9383561643835616\n",
      "Accuracy after 146 samples is: 0.9387755102040817\n",
      "Accuracy after 147 samples is: 0.9391891891891891\n",
      "Accuracy after 148 samples is: 0.9395973154362416\n",
      "Accuracy after 149 samples is: 0.94\n",
      "Accuracy after 150 samples is: 0.9403973509933775\n",
      "Accuracy after 151 samples is: 0.9407894736842105\n",
      "Accuracy after 152 samples is: 0.9411764705882353\n",
      "Accuracy after 153 samples is: 0.9415584415584416\n",
      "Accuracy after 154 samples is: 0.9419354838709677\n",
      "Accuracy after 155 samples is: 0.9423076923076923\n",
      "Accuracy after 156 samples is: 0.9426751592356688\n",
      "Accuracy after 157 samples is: 0.9430379746835443\n",
      "Accuracy after 158 samples is: 0.9433962264150944\n",
      "Accuracy after 159 samples is: 0.94375\n",
      "Accuracy after 160 samples is: 0.9440993788819876\n",
      "Accuracy after 161 samples is: 0.9444444444444444\n",
      "Accuracy after 162 samples is: 0.9447852760736196\n",
      "Accuracy after 163 samples is: 0.9451219512195121\n",
      "Accuracy after 164 samples is: 0.9393939393939394\n",
      "Accuracy after 165 samples is: 0.9397590361445783\n",
      "Accuracy after 166 samples is: 0.9401197604790419\n",
      "Accuracy after 167 samples is: 0.9404761904761905\n",
      "Accuracy after 168 samples is: 0.9408284023668639\n",
      "Accuracy after 169 samples is: 0.9411764705882353\n",
      "Accuracy after 170 samples is: 0.9415204678362573\n",
      "Accuracy after 171 samples is: 0.9418604651162791\n",
      "Accuracy after 172 samples is: 0.9421965317919075\n",
      "Accuracy after 173 samples is: 0.9425287356321839\n",
      "Accuracy after 174 samples is: 0.9428571428571428\n",
      "Accuracy after 175 samples is: 0.9431818181818182\n",
      "Accuracy after 176 samples is: 0.943502824858757\n"
     ]
    }
   ],
   "source": [
    "from river.naive_bayes import GaussianNB\n",
    "from river.stream import iter_sklearn_dataset\n",
    "\n",
    "y_pred=[]\n",
    "y_true=[]\n",
    "\n",
    "model1 = GaussianNB()\n",
    "\n",
    "sample= 0\n",
    "\n",
    "for x, y in iter_sklearn_dataset(wine, shuffle=True, seed=42):\n",
    "    \n",
    "    \n",
    "    yp = model1.predict_one(x)\n",
    "    model1.learn_one(x,y)\n",
    "    \n",
    "    if yp is None:\n",
    "        continue\n",
    "    y_pred.append(yp)\n",
    "    y_true.append(y)\n",
    "    \n",
    "    #accuracy after each sample\n",
    "    \n",
    "    print('Accuracy after '+ str(sample) + ' samples is: ' + str(accuracy_score(y_true,y_pred)))\n",
    "    sample+=1\n",
    "\n",
    "    "
   ]
  },
  {
   "cell_type": "code",
   "execution_count": 34,
   "id": "5578d794-f544-4d60-98bc-0805d97f12b0",
   "metadata": {},
   "outputs": [
    {
     "name": "stdout",
     "output_type": "stream",
     "text": [
      "Streaming model accuracy is: 0.943502824858757\n"
     ]
    }
   ],
   "source": [
    "print('Streaming model accuracy is: ' + str(accuracy_score(y_true, y_pred)))"
   ]
  },
  {
   "cell_type": "code",
   "execution_count": 36,
   "id": "c85896e6-7f58-41bc-b2c1-16abb8256362",
   "metadata": {},
   "outputs": [
    {
     "name": "stdout",
     "output_type": "stream",
     "text": [
      "[[56  1  2]\n",
      " [ 3 66  2]\n",
      " [ 0  2 45]]\n"
     ]
    }
   ],
   "source": [
    "print(confusion_matrix(y_true, y_pred))"
   ]
  }
 ],
 "metadata": {
  "kernelspec": {
   "display_name": "Python 3 (ipykernel)",
   "language": "python",
   "name": "python3"
  },
  "language_info": {
   "codemirror_mode": {
    "name": "ipython",
    "version": 3
   },
   "file_extension": ".py",
   "mimetype": "text/x-python",
   "name": "python",
   "nbconvert_exporter": "python",
   "pygments_lexer": "ipython3",
   "version": "3.9.7"
  }
 },
 "nbformat": 4,
 "nbformat_minor": 5
}
